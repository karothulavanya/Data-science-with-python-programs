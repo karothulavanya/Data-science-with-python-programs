{
 "cells": [
  {
   "cell_type": "code",
   "execution_count": 1,
   "id": "852b8ab9",
   "metadata": {},
   "outputs": [
    {
     "data": {
      "text/html": [
       "<div>\n",
       "<style scoped>\n",
       "    .dataframe tbody tr th:only-of-type {\n",
       "        vertical-align: middle;\n",
       "    }\n",
       "\n",
       "    .dataframe tbody tr th {\n",
       "        vertical-align: top;\n",
       "    }\n",
       "\n",
       "    .dataframe thead th {\n",
       "        text-align: right;\n",
       "    }\n",
       "</style>\n",
       "<table border=\"1\" class=\"dataframe\">\n",
       "  <thead>\n",
       "    <tr style=\"text-align: right;\">\n",
       "      <th></th>\n",
       "      <th>Name</th>\n",
       "      <th>Age</th>\n",
       "      <th>Salary</th>\n",
       "      <th>Gender</th>\n",
       "      <th>Dept</th>\n",
       "    </tr>\n",
       "  </thead>\n",
       "  <tbody>\n",
       "    <tr>\n",
       "      <th>0</th>\n",
       "      <td>Abc</td>\n",
       "      <td>20</td>\n",
       "      <td>14,000</td>\n",
       "      <td>M</td>\n",
       "      <td>ECE</td>\n",
       "    </tr>\n",
       "    <tr>\n",
       "      <th>1</th>\n",
       "      <td>Def</td>\n",
       "      <td>21</td>\n",
       "      <td>50,000</td>\n",
       "      <td>F</td>\n",
       "      <td>CSE</td>\n",
       "    </tr>\n",
       "    <tr>\n",
       "      <th>2</th>\n",
       "      <td>Ghi</td>\n",
       "      <td>22</td>\n",
       "      <td>40,000</td>\n",
       "      <td>F</td>\n",
       "      <td>MECH</td>\n",
       "    </tr>\n",
       "    <tr>\n",
       "      <th>3</th>\n",
       "      <td>Jkl</td>\n",
       "      <td>23</td>\n",
       "      <td>20,000</td>\n",
       "      <td>M</td>\n",
       "      <td>CIVIL</td>\n",
       "    </tr>\n",
       "  </tbody>\n",
       "</table>\n",
       "</div>"
      ],
      "text/plain": [
       "  Name  Age  Salary Gender   Dept\n",
       "0  Abc   20  14,000      M    ECE\n",
       "1  Def   21  50,000      F    CSE\n",
       "2  Ghi   22  40,000      F   MECH\n",
       "3  Jkl   23  20,000      M  CIVIL"
      ]
     },
     "execution_count": 1,
     "metadata": {},
     "output_type": "execute_result"
    }
   ],
   "source": [
    "import pandas as pd\n",
    "df=pd.read_csv(\"Sample.csv\")\n",
    "df"
   ]
  },
  {
   "cell_type": "code",
   "execution_count": 2,
   "id": "dc5e0f70",
   "metadata": {},
   "outputs": [
    {
     "name": "stdout",
     "output_type": "stream",
     "text": [
      "<pandas.core.groupby.generic.DataFrameGroupBy object at 0x000001FDB8A2C8B0>\n"
     ]
    }
   ],
   "source": [
    "print(df.groupby([\"Gender\"]))"
   ]
  },
  {
   "cell_type": "code",
   "execution_count": 3,
   "id": "3fcb6f7a",
   "metadata": {},
   "outputs": [],
   "source": [
    "a=df.groupby([\"Gender\",\"Dept\"])"
   ]
  },
  {
   "cell_type": "code",
   "execution_count": 4,
   "id": "34e699ae",
   "metadata": {},
   "outputs": [
    {
     "name": "stdout",
     "output_type": "stream",
     "text": [
      "{('F', 'CSE'): [1], ('F', 'MECH'): [2], ('M', 'CIVIL'): [3], ('M', 'ECE'): [0]}\n"
     ]
    }
   ],
   "source": [
    "print(a.groups)"
   ]
  },
  {
   "cell_type": "code",
   "execution_count": 7,
   "id": "5a3d83d4",
   "metadata": {},
   "outputs": [
    {
     "name": "stdout",
     "output_type": "stream",
     "text": [
      "      Name  Age  Salary Gender\n",
      "Dept                          \n",
      "CIVIL  Jkl   23  20,000      M\n",
      "CSE    Def   21  50,000      F\n",
      "ECE    Abc   20  14,000      M\n",
      "MECH   Ghi   22  40,000      F\n"
     ]
    }
   ],
   "source": [
    "print(df.groupby([\"Dept\"]).max())"
   ]
  },
  {
   "cell_type": "code",
   "execution_count": 8,
   "id": "9b036ea8",
   "metadata": {},
   "outputs": [
    {
     "name": "stdout",
     "output_type": "stream",
     "text": [
      "       Name  Age  Salary  Dept\n",
      "Gender                        \n",
      "F       Ghi   22  50,000  MECH\n",
      "M       Jkl   23  20,000   ECE\n"
     ]
    }
   ],
   "source": [
    "print(df.groupby([\"Gender\"]).max())"
   ]
  },
  {
   "cell_type": "code",
   "execution_count": 9,
   "id": "87064f8e",
   "metadata": {},
   "outputs": [
    {
     "name": "stdout",
     "output_type": "stream",
     "text": [
      "{'F': [1, 2], 'M': [0, 3]}\n"
     ]
    }
   ],
   "source": [
    "print(df.groupby([\"Gender\"]).groups)"
   ]
  },
  {
   "cell_type": "code",
   "execution_count": 10,
   "id": "d77dbc66",
   "metadata": {},
   "outputs": [
    {
     "name": "stdout",
     "output_type": "stream",
     "text": [
      "{'CIVIL': [3], 'CSE': [1], 'ECE': [0], 'MECH': [2]}\n"
     ]
    }
   ],
   "source": [
    "print(df.groupby([\"Dept\"]).groups)"
   ]
  },
  {
   "cell_type": "code",
   "execution_count": 11,
   "id": "30373b1b",
   "metadata": {},
   "outputs": [
    {
     "name": "stdout",
     "output_type": "stream",
     "text": [
      "  Name  Age  Salary Gender   Dept\n",
      "0  Abc   20  14,000      M    ECE\n",
      "3  Jkl   23  20,000      M  CIVIL\n"
     ]
    }
   ],
   "source": [
    "g=df.groupby([\"Gender\"])\n",
    "print(g.get_group(\"M\"))"
   ]
  },
  {
   "cell_type": "code",
   "execution_count": 12,
   "id": "f122bcd0",
   "metadata": {},
   "outputs": [
    {
     "data": {
      "text/plain": [
       "M    2\n",
       "F    2\n",
       "Name: Gender, dtype: int64"
      ]
     },
     "execution_count": 12,
     "metadata": {},
     "output_type": "execute_result"
    }
   ],
   "source": [
    "df[\"Gender\"].value_counts()"
   ]
  },
  {
   "cell_type": "code",
   "execution_count": null,
   "id": "af34133c",
   "metadata": {},
   "outputs": [],
   "source": []
  }
 ],
 "metadata": {
  "kernelspec": {
   "display_name": "Python 3 (ipykernel)",
   "language": "python",
   "name": "python3"
  },
  "language_info": {
   "codemirror_mode": {
    "name": "ipython",
    "version": 3
   },
   "file_extension": ".py",
   "mimetype": "text/x-python",
   "name": "python",
   "nbconvert_exporter": "python",
   "pygments_lexer": "ipython3",
   "version": "3.9.7"
  }
 },
 "nbformat": 4,
 "nbformat_minor": 5
}
