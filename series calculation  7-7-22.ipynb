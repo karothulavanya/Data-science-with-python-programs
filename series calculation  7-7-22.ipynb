{
 "cells": [
  {
   "cell_type": "code",
   "execution_count": 13,
   "id": "aab918c0",
   "metadata": {},
   "outputs": [
    {
     "name": "stdout",
     "output_type": "stream",
     "text": [
      "mean 3.0\n",
      "median 3.0\n",
      "mode 0    1\n",
      "1    2\n",
      "2    3\n",
      "3    4\n",
      "4    5\n",
      "dtype: int64\n",
      "var 2.5\n",
      "std 1.5811388300841898\n"
     ]
    }
   ],
   "source": [
    "import pandas as pd\n",
    "a=pd.Series([1,2,3,4,5])\n",
    "a.describe()\n",
    "print(\"mean\",a.mean())\n",
    "print(\"median\",a.median())\n",
    "print(\"mode\",a.mode())\n",
    "print(\"var\",a.var())\n",
    "print(\"std\",a.std())"
   ]
  },
  {
   "cell_type": "code",
   "execution_count": 18,
   "id": "3ad745aa",
   "metadata": {},
   "outputs": [],
   "source": [
    "import pandas as pd\n",
    "x=pd.Series([10,2,3,4,5,4,6,8])\n",
    "mean=x.mean()\n",
    "Median=x.median()\n",
    "SD=x.std()\n",
    "Variance=x.var()\n",
    "Mode=x.mode()\n"
   ]
  },
  {
   "cell_type": "code",
   "execution_count": 21,
   "id": "92b5e52c",
   "metadata": {},
   "outputs": [
    {
     "name": "stderr",
     "output_type": "stream",
     "text": [
      "C:\\ProgramData\\Anaconda3\\Python\\lib\\site-packages\\numpy\\lib\\stride_tricks.py:536: VisibleDeprecationWarning: Creating an ndarray from ragged nested sequences (which is a list-or-tuple of lists-or-tuples-or ndarrays with different lengths or shapes) is deprecated. If you meant to do this, you must specify 'dtype=object' when creating the ndarray.\n",
      "  args = [np.array(_m, copy=False, subok=subok) for _m in args]\n",
      "C:\\ProgramData\\Anaconda3\\Python\\lib\\site-packages\\numpy\\core\\_asarray.py:102: VisibleDeprecationWarning: Creating an ndarray from ragged nested sequences (which is a list-or-tuple of lists-or-tuples-or ndarrays with different lengths or shapes) is deprecated. If you meant to do this, you must specify 'dtype=object' when creating the ndarray.\n",
      "  return array(a, dtype, copy=False, order=order)\n"
     ]
    },
    {
     "data": {
      "image/png": "[encoded data removed]",
      "text/plain": [
       "<Figure size 432x288 with 1 Axes>"
      ]
     },
     "metadata": {
      "needs_background": "light"
     },
     "output_type": "display_data"
    }
   ],
   "source": [
    "import matplotlib.pyplot as plt\n",
    "x=[0,1,2,3,4]\n",
    "y=[mean,Median,SD,Variance,Mode]\n",
    "plt.bar(x,y,label=\"0-Mean,1-Median,2-SD,3-Variance,4-Mode\")\n",
    "plt.legend(loc=\"upper left\")\n",
    "plt.show()"
   ]
  },
  {
   "cell_type": "code",
   "execution_count": 22,
   "id": "c02f1e82",
   "metadata": {},
   "outputs": [
    {
     "data": {
      "image/png": "[encoded data removed]",
      "text/plain": [
       "<Figure size 432x288 with 1 Axes>"
      ]
     },
     "metadata": {
      "needs_background": "light"
     },
     "output_type": "display_data"
    }
   ],
   "source": [
    "import matplotlib.pyplot as plt\n",
    "x=[0,1,2,3,4]\n",
    "y=[mean,Median,SD,Variance,Mode]\n",
    "plt.bar(x,y,label=\"0-Mean,1-Median,2-SD,3-Variance,4-Mode\")\n",
    "plt.legend(loc=\"upper left\")\n",
    "plt.show()"
   ]
  },
  {
   "cell_type": "code",
   "execution_count": null,
   "id": "ab7107ae",
   "metadata": {},
   "outputs": [],
   "source": [
    "import pandas as pd\n",
    "import matplotlib.pyplot as plt\n",
    "x=[mean,median,var,std]\n",
    "labels=(\"1=mean,\")\n",
    "\n",
    "plt.bar(x,y,label=\"0-Mean,1-Median,2-SD,3-Variance,4-Mode\")\n",
    "plt.legend(loc=\"upper left\")\n",
    "plt.show()"
   ]
  },
  {
   "cell_type": "code",
   "execution_count": null,
   "id": "e16ea982",
   "metadata": {},
   "outputs": [],
   "source": []
  }
 ],
 "metadata": {
  "kernelspec": {
   "display_name": "Python 3 (ipykernel)",
   "language": "python",
   "name": "python3"
  },
  "language_info": {
   "codemirror_mode": {
    "name": "ipython",
    "version": 3
   },
   "file_extension": ".py",
   "mimetype": "text/x-python",
   "name": "python",
   "nbconvert_exporter": "python",
   "pygments_lexer": "ipython3",
   "version": "3.9.7"
  }
 },
 "nbformat": 4,
 "nbformat_minor": 5
}
