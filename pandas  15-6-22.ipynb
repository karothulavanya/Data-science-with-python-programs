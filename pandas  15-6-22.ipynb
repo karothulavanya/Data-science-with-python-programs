{
 "cells": [
  {
   "cell_type": "code",
   "execution_count": 1,
   "id": "6dd6f2ec",
   "metadata": {},
   "outputs": [
    {
     "name": "stdout",
     "output_type": "stream",
     "text": [
      "0    10\n",
      "1    20\n",
      "2    30\n",
      "dtype: int64\n"
     ]
    }
   ],
   "source": [
    "import pandas as pd\n",
    "a=pd.Series([10,20,30])\n",
    "print(a)"
   ]
  },
  {
   "cell_type": "code",
   "execution_count": null,
   "id": "9db0beb0",
   "metadata": {},
   "outputs": [],
   "source": [
    "import pandas as pd\n",
    "a=pd.Series([10,20,30])\n",
    "print(a)"
   ]
  },
  {
   "cell_type": "code",
   "execution_count": 3,
   "id": "9ad667c7",
   "metadata": {},
   "outputs": [
    {
     "name": "stdout",
     "output_type": "stream",
     "text": [
      "2    10\n",
      "3    20\n",
      "4    30\n",
      "dtype: int64\n"
     ]
    }
   ],
   "source": [
    "import pandas as pd\n",
    "a=pd.Series([10,20,30],index=[2,3,4])\n",
    "print(a)"
   ]
  },
  {
   "cell_type": "code",
   "execution_count": null,
   "id": "86148899",
   "metadata": {},
   "outputs": [],
   "source": []
  },
  {
   "cell_type": "code",
   "execution_count": 5,
   "id": "fd2d54c0",
   "metadata": {},
   "outputs": [
    {
     "name": "stdout",
     "output_type": "stream",
     "text": [
      "   abc  def  ghi\n",
      "0  123  456  789\n"
     ]
    }
   ],
   "source": [
    "import pandas as pd\n",
    "a=pd.DataFrame({\"abc\":[123],\"def\":[456],\"ghi\":[789]})\n",
    "print(a)"
   ]
  },
  {
   "cell_type": "code",
   "execution_count": 4,
   "id": "a78204af",
   "metadata": {},
   "outputs": [
    {
     "name": "stdout",
     "output_type": "stream",
     "text": [
      "Add two Series:\n",
      "0     3\n",
      "1     7\n",
      "2    11\n",
      "3    15\n",
      "4    19\n",
      "dtype: int64\n",
      "subtract two Series:\n",
      "0    1\n",
      "1    1\n",
      "2    1\n",
      "3    1\n",
      "4    1\n",
      "dtype: int64\n",
      "multiply two Series:\n",
      "0     2\n",
      "1    12\n",
      "2    30\n",
      "3    56\n",
      "4    90\n",
      "dtype: int64\n",
      "divide Series1 by Series2:\n",
      "0    2.000000\n",
      "1    1.333333\n",
      "2    1.200000\n",
      "3    1.142857\n",
      "4    1.111111\n",
      "dtype: float64\n"
     ]
    }
   ],
   "source": [
    "import pandas as pd\n",
    "ds1=pd.Series([2,4,6,8,10])\n",
    "ds2=pd.Series([1,3,5,7,9])\n",
    "ds=ds1+ds2\n",
    "print(\"Add two Series:\")\n",
    "print(ds)\n",
    "print(\"subtract two Series:\")\n",
    "ds=ds1-ds2\n",
    "print(ds)\n",
    "print(\"multiply two Series:\")\n",
    "ds=ds1*ds2\n",
    "print(ds)\n",
    "print(\"divide Series1 by Series2:\")\n",
    "ds=ds1/ds2\n",
    "print(ds)"
   ]
  },
  {
   "cell_type": "code",
   "execution_count": 3,
   "id": "fd98b2ff",
   "metadata": {},
   "outputs": [
    {
     "name": "stdout",
     "output_type": "stream",
     "text": [
      "0     2\n",
      "1     4\n",
      "2     6\n",
      "3     8\n",
      "4    10\n",
      "dtype: int64\n"
     ]
    }
   ],
   "source": [
    "import pandas as pd\n",
    "ds=pd.Series([2,4,6,8,10])\n",
    "print(ds)"
   ]
  },
  {
   "cell_type": "code",
   "execution_count": 5,
   "id": "04519d50",
   "metadata": {},
   "outputs": [
    {
     "name": "stdout",
     "output_type": "stream",
     "text": [
      "pandas Series and type\n",
      "0     2\n",
      "1     4\n",
      "2     6\n",
      "3     8\n",
      "4    10\n",
      "dtype: int64\n",
      "<class 'pandas.core.series.Series'>\n",
      "convert pandas Series to python list\n",
      "[2, 4, 6, 8, 10]\n",
      "<class 'list'>\n"
     ]
    }
   ],
   "source": [
    "import pandas as pd\n",
    "ds=pd.Series([2,4,6,8,10])\n",
    "print(\"pandas Series and type\")\n",
    "print(ds)\n",
    "print(type(ds))\n",
    "print(\"convert pandas Series to python list\")\n",
    "print(ds.tolist())\n",
    "print(type(ds.tolist()))"
   ]
  },
  {
   "cell_type": "code",
   "execution_count": 6,
   "id": "8f58ced2",
   "metadata": {},
   "outputs": [
    {
     "name": "stdout",
     "output_type": "stream",
     "text": [
      "Series1:\n",
      "0     2\n",
      "1     4\n",
      "2     6\n",
      "3     8\n",
      "4    10\n",
      "dtype: int64\n",
      "Series2:\n",
      "0     1\n",
      "1     3\n",
      "2     5\n",
      "3     7\n",
      "4    10\n",
      "dtype: int64\n",
      "Compare theelements of thesaid Series\n",
      "Equals:\n",
      "0    False\n",
      "1    False\n",
      "2    False\n",
      "3    False\n",
      "4     True\n",
      "dtype: bool\n",
      "Greater than:\n",
      "0     True\n",
      "1     True\n",
      "2     True\n",
      "3     True\n",
      "4    False\n",
      "dtype: bool\n",
      "Less than:\n",
      "0    False\n",
      "1    False\n",
      "2    False\n",
      "3    False\n",
      "4    False\n",
      "dtype: bool\n"
     ]
    }
   ],
   "source": [
    "import pandas as pd\n",
    "ds1=pd.Series([2,4,6,8,10])\n",
    "ds2=pd.Series([1,3,5,7,10])\n",
    "print(\"Series1:\")\n",
    "print(ds1)\n",
    "print(\"Series2:\")\n",
    "print(ds2)\n",
    "print(\"Compare theelements of thesaid Series\")\n",
    "print(\"Equals:\")\n",
    "print(ds1==ds2)\n",
    "print(\"Greater than:\")\n",
    "print(ds1>ds2)\n",
    "print(\"Less than:\")\n",
    "print(ds1<ds2)"
   ]
  },
  {
   "cell_type": "code",
   "execution_count": 9,
   "id": "51ec60cc",
   "metadata": {},
   "outputs": [
    {
     "name": "stdout",
     "output_type": "stream",
     "text": [
      "original Data Series:\n",
      "0       100\n",
      "1       200\n",
      "2    python\n",
      "3    300.12\n",
      "4       400\n",
      "dtype: object\n",
      "0       100\n",
      "1       200\n",
      "3    300.12\n",
      "4       400\n",
      "2    python\n",
      "dtype: object\n"
     ]
    }
   ],
   "source": [
    "import pandas as pd\n",
    "s=pd.Series([\"100\",\"200\",\"python\",\"300.12\",\"400\"])\n",
    "print(\"original Data Series:\")\n",
    "print(s)\n",
    "new_s=pd.Series(s).sort_values()\n",
    "print(new_s)"
   ]
  },
  {
   "cell_type": "code",
   "execution_count": 10,
   "id": "dbff7b57",
   "metadata": {},
   "outputs": [
    {
     "name": "stdout",
     "output_type": "stream",
     "text": [
      "original Data Series:\n",
      "A    1\n",
      "B    2\n",
      "C    3\n",
      "D    4\n",
      "E    5\n",
      "dtype: int64\n",
      "Data Series after changing the order of index:\n",
      "B    2\n",
      "A    1\n",
      "C    3\n",
      "D    4\n",
      "E    5\n",
      "dtype: int64\n"
     ]
    }
   ],
   "source": [
    "import pandas as pd\n",
    "s=pd.Series(data=[1,2,3,4,5],index=[\"A\",\"B\",\"C\",\"D\",\"E\"])\n",
    "print(\"original Data Series:\")\n",
    "print(s)\n",
    "s=s.reindex(index=[\"B\",\"A\",\"C\",\"D\",\"E\"])\n",
    "print(\"Data Series after changing the order of index:\")\n",
    "print(s)"
   ]
  },
  {
   "cell_type": "code",
   "execution_count": null,
   "id": "ad5b3313",
   "metadata": {},
   "outputs": [],
   "source": []
  }
 ],
 "metadata": {
  "kernelspec": {
   "display_name": "Python 3 (ipykernel)",
   "language": "python",
   "name": "python3"
  },
  "language_info": {
   "codemirror_mode": {
    "name": "ipython",
    "version": 3
   },
   "file_extension": ".py",
   "mimetype": "text/x-python",
   "name": "python",
   "nbconvert_exporter": "python",
   "pygments_lexer": "ipython3",
   "version": "3.9.7"
  }
 },
 "nbformat": 4,
 "nbformat_minor": 5
}
